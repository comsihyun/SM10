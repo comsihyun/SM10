{
  "nbformat": 4,
  "nbformat_minor": 0,
  "metadata": {
    "colab": {
      "name": "ch2_08_set.py",
      "provenance": [],
      "include_colab_link": true
    },
    "kernelspec": {
      "name": "python3",
      "display_name": "Python 3"
    }
  },
  "cells": [
    {
      "cell_type": "markdown",
      "metadata": {
        "id": "view-in-github",
        "colab_type": "text"
      },
      "source": [
        "<a href=\"https://colab.research.google.com/github/comsihyun/SM10/blob/master/ch02/ch2_08_set_py.ipynb\" target=\"_parent\"><img src=\"https://colab.research.google.com/assets/colab-badge.svg\" alt=\"Open In Colab\"/></a>"
      ]
    },
    {
      "cell_type": "code",
      "metadata": {
        "id": "B1uYgLspWP9B",
        "colab_type": "code",
        "colab": {}
      },
      "source": [
        "# ch2_08_set.py"
      ],
      "execution_count": 0,
      "outputs": []
    },
    {
      "cell_type": "code",
      "metadata": {
        "id": "Mtg1_w5DWWD7",
        "colab_type": "code",
        "colab": {}
      },
      "source": [
        "print(\"집합: 집합(Set)이란?\")\n",
        "# 집합에 관련된 것을 쉽게 처리하기 위해 만든 자료형\n",
        "# 중복된 값을 허용하지 않는다.\n",
        "#\n",
        "# set 키워드를 사용해서 집합자료형을 만든다.\n",
        "#\n",
        "s1 = set([1, 2, 3])\n",
        "s1\n",
        "s1n = set([1, 2, 3, 2])\n",
        "s1n\n",
        "s2 = set(\"Hello\")\n",
        "s2"
      ],
      "execution_count": 0,
      "outputs": []
    },
    {
      "cell_type": "code",
      "metadata": {
        "id": "pfNL3xGHWXTC",
        "colab_type": "code",
        "colab": {}
      },
      "source": [
        "# 집합 자료형의 특징\n",
        "# 1. 중복을 허용하지 않는다.\n",
        "# 2. 순서가 없다(Unordered).\n",
        "# *** set 자료형은 순서가 없기(unordered) 때문에 인덱싱으로 값을 얻을 수 없다.\n",
        "#\n",
        "s1 = set([1,2,3])\n",
        "s1[0]\n",
        "l1=list(s1)\n",
        "l1\n",
        "l1[0]\n",
        "#\n",
        "t1=tuple(s1)\n",
        "t1\n",
        "t1[0]\n",
        "#\n",
        "# 교집합, 합집합, 차집합 구하기\n",
        "#\n",
        "s1 = set([1, 2, 3, 4, 5, 6])\n",
        "s2 = set([4, 5, 6, 7, 8, 9])\n",
        "# \n",
        "# 1. 교집합\n",
        "#\n",
        "s1 & s2\n",
        "s1.intersection(s2)\n",
        "# \n",
        "# 2. 합집합\n",
        "#\n",
        "s1 | s2\n",
        "s1.union(s2)\n",
        "# \n",
        "# 3. 차집합\n",
        "#\n",
        "s1 - s2\n",
        "s2 - s1\n",
        "s1.difference(s2)\n",
        "s2.difference(s1)"
      ],
      "execution_count": 0,
      "outputs": []
    },
    {
      "cell_type": "code",
      "metadata": {
        "id": "eXXnI2nhWaUi",
        "colab_type": "code",
        "colab": {}
      },
      "source": [
        "print(\"집합 (set): 관련 내장 함수들\")\n",
        "#\n",
        "# 값 1개 추가하기(add)\n",
        "#\n",
        "s1 = set([1, 2, 3])\n",
        "s1.add(4)\n",
        "s1\n",
        "#\n",
        "# 값 여러 개 추가하기(update)\n",
        "#\n",
        "s1 = set([1, 2, 3])\n",
        "s1.update([4,5,6])\n",
        "s1\n",
        "s1.add(5)\n",
        "s1\n",
        "#\n",
        "# 특정 값 제거하기(remove)\n",
        "#\n",
        "s1 = set([1, 2, 3])\n",
        "s1.remove(2)\n",
        "s1"
      ],
      "execution_count": 0,
      "outputs": []
    },
    {
      "cell_type": "code",
      "metadata": {
        "id": "f7jierd1Wcja",
        "colab_type": "code",
        "colab": {}
      },
      "source": [
        "#################################################\n",
        "# frozenset()  # immutable set\n",
        "#################################################\n",
        "small_primes = frozenset([2, 3, 5, 7])\n",
        "bigger_primes = frozenset([5, 7, 11])\n",
        "small_primes.add(11)  # we cannot add to a frozenset -> AttributeError\n",
        "\n",
        "small_primes.remove(2)  # neither we can remove -> AttributeError\n",
        "\n",
        "small_primes & bigger_primes  # intersect, union, etc. allowed\n",
        "# frozenset({5, 7})\n"
      ],
      "execution_count": 0,
      "outputs": []
    }
  ]
}