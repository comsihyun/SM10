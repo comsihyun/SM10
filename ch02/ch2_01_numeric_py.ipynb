{
  "nbformat": 4,
  "nbformat_minor": 0,
  "metadata": {
    "colab": {
      "name": "ch2_01_numeric.py",
      "provenance": [],
      "include_colab_link": true
    },
    "kernelspec": {
      "name": "python3",
      "display_name": "Python 3"
    }
  },
  "cells": [
    {
      "cell_type": "markdown",
      "metadata": {
        "id": "view-in-github",
        "colab_type": "text"
      },
      "source": [
        "<a href=\"https://colab.research.google.com/github/comsihyun/SM10/blob/master/ch02/ch2_01_numeric_py.ipynb\" target=\"_parent\"><img src=\"https://colab.research.google.com/assets/colab-badge.svg\" alt=\"Open In Colab\"/></a>"
      ]
    },
    {
      "cell_type": "code",
      "metadata": {
        "id": "Sn7nrApuPuTO",
        "colab_type": "code",
        "colab": {}
      },
      "source": [
        "# ch2_01_numeric.py"
      ],
      "execution_count": 0,
      "outputs": []
    },
    {
      "cell_type": "code",
      "metadata": {
        "id": "kWrOxJ17Pw9n",
        "colab_type": "code",
        "colab": {}
      },
      "source": [
        "#정수형 변수\n",
        "print(\"숫자형: 정수\")\n",
        "a = 123\n",
        "a = -178\n",
        "a = 0"
      ],
      "execution_count": 0,
      "outputs": []
    },
    {
      "cell_type": "code",
      "metadata": {
        "id": "5hgeaNxiP20N",
        "colab_type": "code",
        "colab": {}
      },
      "source": [
        "#실수형 변수\n",
        "print(\"숫자형: 실수\")\n",
        "a = 1.2\n",
        "a = -3.48\n",
        "a = 4.24e10\n",
        "a = 4.24e-10\n"
      ],
      "execution_count": 0,
      "outputs": []
    },
    {
      "cell_type": "code",
      "metadata": {
        "id": "vfkqSe3eP57_",
        "colab_type": "code",
        "colab": {}
      },
      "source": [
        "#8진수와 16진수\n",
        "print(\"숫자형: 8진수와 16진수\")\n",
        "a = 0o177\n",
        "a\n",
        "a = 0x8FF\n",
        "a\n",
        "a = 0xABC\n",
        "a"
      ],
      "execution_count": 0,
      "outputs": []
    },
    {
      "cell_type": "code",
      "metadata": {
        "id": "SP9IK9SPP8qe",
        "colab_type": "code",
        "colab": {}
      },
      "source": [
        "#연산자와 연산\n",
        "print(\"숫자형: 연산자와 연산\")\n",
        "a = 3\n",
        "b = 4\n",
        "a + b\n",
        "a * b\n",
        "a / b\n",
        "a ** b\n",
        "a % b\n",
        "a // b\n",
        "\n",
        "14 // 3\n",
        "14 % 3"
      ],
      "execution_count": 0,
      "outputs": []
    }
  ]
}