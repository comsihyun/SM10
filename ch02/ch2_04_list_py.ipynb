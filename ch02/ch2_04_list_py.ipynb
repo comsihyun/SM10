{
  "nbformat": 4,
  "nbformat_minor": 0,
  "metadata": {
    "colab": {
      "name": "ch2_04_list.py",
      "provenance": [],
      "include_colab_link": true
    },
    "kernelspec": {
      "name": "python3",
      "display_name": "Python 3"
    }
  },
  "cells": [
    {
      "cell_type": "markdown",
      "metadata": {
        "id": "view-in-github",
        "colab_type": "text"
      },
      "source": [
        "<a href=\"https://colab.research.google.com/github/comsihyun/SM10/blob/master/ch02/ch2_04_list_py.ipynb\" target=\"_parent\"><img src=\"https://colab.research.google.com/assets/colab-badge.svg\" alt=\"Open In Colab\"/></a>"
      ]
    },
    {
      "cell_type": "code",
      "metadata": {
        "id": "DwzOomIhT4j6",
        "colab_type": "code",
        "colab": {}
      },
      "source": [
        "# ch2_04_list.py"
      ],
      "execution_count": 0,
      "outputs": []
    },
    {
      "cell_type": "code",
      "metadata": {
        "id": "2-lga915T6vY",
        "colab_type": "code",
        "colab": {}
      },
      "source": [
        "print(\"리스트: list 란?\")\n",
        "odd = [1, 3, 5, 7, 9]\n",
        "# 여러 가지 리스트\n",
        "a = []   # list 초기화\n",
        "b = [1, 2, 3]\n",
        "c = ['Life', 'is', 'too', 'short']\n",
        "d = [1, 2, 'Life', 'is']\n",
        "e = [1, 2, ['Life', 'is']]\n",
        "\n",
        "a = list()\n",
        "a   # []"
      ],
      "execution_count": 0,
      "outputs": []
    },
    {
      "cell_type": "code",
      "metadata": {
        "id": "n4z5igRvT-OO",
        "colab_type": "code",
        "colab": {}
      },
      "source": [
        "print(\"리스트: 리스트의 인덱싱과 슬라이싱\")\n",
        "a = [1, 2, 3]\n",
        "a\n",
        "a[0]\n",
        "a[3]\n",
        "a[0]+a[2]\n",
        "a[-1]\n",
        "#\n",
        "a = [1, 2, 3, ['a', 'b', 'c']]\n",
        "a[0]\n",
        "a[3]\n",
        "a[-1]\n",
        "# chaek this: a[0] + a[-1] -> TypeError\n",
        "# Indexing inner list\n",
        "a[-1][0]\n",
        "a[-1][-1]"
      ],
      "execution_count": 0,
      "outputs": []
    },
    {
      "cell_type": "code",
      "metadata": {
        "id": "k43UeSkaUBGO",
        "colab_type": "code",
        "colab": {}
      },
      "source": [
        "# Indexing of triple list\n",
        "# 삼중 리스트에서 인덱싱하기\n",
        "a = [1, 2, ['a', 'b', ['Life', 'is']]]\n",
        "a[2]\n",
        "a[2][-1]\n",
        "a[2][-1][0]   # 'Life'\n",
        "#"
      ],
      "execution_count": 0,
      "outputs": []
    },
    {
      "cell_type": "code",
      "metadata": {
        "id": "XpQs0dOGUCpX",
        "colab_type": "code",
        "colab": {}
      },
      "source": [
        "# Indexing of triple list\n",
        "# 삼중 리스트에서 인덱싱하기\n",
        "a = [1, 2, ['a', 'b', ['Life', 'is']]]\n",
        "a[2]\n",
        "a[2][-1]\n",
        "a[2][-1][0]   # 'Life'\n",
        "#"
      ],
      "execution_count": 0,
      "outputs": []
    },
    {
      "cell_type": "code",
      "metadata": {
        "id": "d9wk5tFzUQLW",
        "colab_type": "code",
        "colab": {}
      },
      "source": [
        "# 리스트의 슬라이싱\n",
        "a = [1, 2, 3, 4, 5]\n",
        "a[0:2]\n",
        "a = \"12345\"\n",
        "a[0:2]"
      ],
      "execution_count": 0,
      "outputs": []
    },
    {
      "cell_type": "code",
      "metadata": {
        "id": "L9n9EB_NUWdk",
        "colab_type": "code",
        "colab": {}
      },
      "source": [
        "a = [1, 2, 3, 4, 5]\n",
        "a[0:2]\n",
        "a[2:]\n",
        "a[0:4:2]  # a[start:end:step]"
      ],
      "execution_count": 0,
      "outputs": []
    },
    {
      "cell_type": "code",
      "metadata": {
        "id": "YkwDR_J4Uaft",
        "colab_type": "code",
        "colab": {}
      },
      "source": [
        "# 중첩된 리스트에서 슬라이싱하기\n",
        "#\n",
        "a = [1, 2, 3, ['a', 'b', 'c'], 4, 5]\n",
        "a[2:5]\n",
        "a[3][:2]\n",
        "#\n",
        "#\n",
        "#\n",
        "# 리스트: 인덱싱, 슬라이싱 연습\n",
        "#\n",
        "x = [1, 2, 3, 4, 5, 6, 7, 8, 9]\n",
        "x[0:3]\n",
        "x[3:]\n",
        "x[:6]\n",
        "x[0:6:2]  # x[:6:2]\n",
        "x[-1]\n",
        "x[-3]\n",
        "x[:-3]\n",
        "x[::-1]\n",
        "x[-3::-1]"
      ],
      "execution_count": 0,
      "outputs": []
    },
    {
      "cell_type": "code",
      "metadata": {
        "id": "U3LBoU1uUdyv",
        "colab_type": "code",
        "colab": {}
      },
      "source": [
        "print(\"리스트: 리스트 연산하기\")\n",
        "###################################\n",
        "#\n",
        "# 리스트 더하기(+)\n",
        "#\n",
        "a = [1, 2, 3]\n",
        "b = [4, 5, 6]\n",
        "a + b\n",
        "#\n",
        "# 리스트 반복하기(*)\n",
        "#\n",
        "a * 3\n",
        "#\n",
        "# 리스트 길이구하기\n",
        "#\n",
        "len(a)\n",
        "#\n",
        "# 초보자가 범하기 쉬운 리스트 연산 오류\n",
        "#\n",
        "a = [1, 2, 3]\n",
        "a[2] + \"hi\"\n",
        "str(a[2]) + \"hi\"\n",
        "#\n",
        "# 리스트의 수정과 삭제\n",
        "#\n",
        "a = [1, 2, 3]\n",
        "a[2] = 4  # list is mutable!!!\n",
        "a\n",
        "\n",
        "#\n",
        "# del 함수 사용해 리스트 요소 삭제하기\n",
        "#\n",
        "a = [1, 2, 3]\n",
        "del a[1]\n",
        "a\n",
        "a = [1, 2, 3, 4, 5]\n",
        "del a[2:]\n",
        "a"
      ],
      "execution_count": 0,
      "outputs": []
    }
  ]
}