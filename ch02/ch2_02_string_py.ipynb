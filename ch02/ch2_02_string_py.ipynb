{
  "nbformat": 4,
  "nbformat_minor": 0,
  "metadata": {
    "colab": {
      "name": "ch2_02_string.py",
      "provenance": [],
      "include_colab_link": true
    },
    "kernelspec": {
      "name": "python3",
      "display_name": "Python 3"
    }
  },
  "cells": [
    {
      "cell_type": "markdown",
      "metadata": {
        "id": "view-in-github",
        "colab_type": "text"
      },
      "source": [
        "<a href=\"https://colab.research.google.com/github/comsihyun/SM10/blob/master/ch02/ch2_02_string_py.ipynb\" target=\"_parent\"><img src=\"https://colab.research.google.com/assets/colab-badge.svg\" alt=\"Open In Colab\"/></a>"
      ]
    },
    {
      "cell_type": "code",
      "metadata": {
        "id": "lZ2ed6TeQIp1",
        "colab_type": "code",
        "colab": {}
      },
      "source": [
        "# ch2_02_string.py"
      ],
      "execution_count": 0,
      "outputs": []
    },
    {
      "cell_type": "code",
      "metadata": {
        "id": "KsNRHp_kS71x",
        "colab_type": "code",
        "colab": {}
      },
      "source": [
        "# \"Life is too short, you need python\"\n",
        "# 'Life is too short, you need python'\n",
        "# \"\"\"Life is too short, you need python\"\"\"\n",
        "# '''Life is too short, you need python'''\n",
        "\n",
        "\n",
        "print(\"문자열: '\")\n",
        "food = \"Python's favorite food is perl\"\n",
        "food\n",
        "\n",
        "food = 'Python's favorite food is perl'  # Error\n",
        "\n",
        "say = '\"Python is very easy.\" he says.'\n",
        "\n",
        "print(\"문자열: \\ 이용\")\n",
        "food = 'Python\\'s favorite food is perl'\n",
        "say = \"\\\"Python is very easy.\\\" he says.\""
      ],
      "execution_count": 0,
      "outputs": []
    },
    {
      "cell_type": "code",
      "metadata": {
        "id": "IbMsJfVuS_Og",
        "colab_type": "code",
        "colab": {}
      },
      "source": [
        "# 이스케이프 코드\n",
        "print(\"문자열: 이스케이프 코드 이용\")\n",
        "multiline = \"Life is too short\\nYou need python\"\n",
        "multiline\n",
        "print(multiline)"
      ],
      "execution_count": 0,
      "outputs": []
    },
    {
      "cell_type": "code",
      "metadata": {
        "id": "GnPPmWQcTAiw",
        "colab_type": "code",
        "colab": {}
      },
      "source": [
        "# 여러줄 문자열 처리\n",
        "multiline = '''\n",
        "#... Life is too short\n",
        "#... You need python\n",
        "#... '''\n",
        "multiline\n",
        "print(multiline)"
      ],
      "execution_count": 0,
      "outputs": []
    },
    {
      "cell_type": "code",
      "metadata": {
        "id": "K0RzBhnlTBu4",
        "colab_type": "code",
        "colab": {}
      },
      "source": [
        "print(\"문자열 연산: 더하기\")\n",
        "head = \"Python\"\n",
        "tail = \" is fun!\"\n",
        "head + tail\n",
        "\n",
        "print(\"문자열 연산: 곱하기\")\n",
        "a = \"python\"\n",
        "a * 2\n"
      ],
      "execution_count": 0,
      "outputs": []
    },
    {
      "cell_type": "code",
      "metadata": {
        "id": "4ek5GvI-TH9B",
        "colab_type": "code",
        "colab": {}
      },
      "source": [
        "# multistring.py\n",
        "print(\"=\" * 50)\n",
        "print(\"I am now coding Python!\")\n",
        "print(\"=\" * 50)"
      ],
      "execution_count": 0,
      "outputs": []
    },
    {
      "cell_type": "code",
      "metadata": {
        "id": "DXDHF1m-TJvw",
        "colab_type": "code",
        "colab": {}
      },
      "source": [
        "# 내장함수: len()\n",
        "print(\"문자열 연산: 길이 구하기 - len()\")\n",
        "a = \"Life is too short\"\n",
        "len(a)"
      ],
      "execution_count": 0,
      "outputs": []
    },
    {
      "cell_type": "code",
      "metadata": {
        "id": "r9Eu2BAdTLBI",
        "colab_type": "code",
        "colab": {}
      },
      "source": [
        "#####################################\n",
        "#\n",
        "# 문자열 인덱싱과 슬라이싱\n",
        "#\n",
        "#####################################\n",
        "print(\"문자열: 인덱싱이란?\")\n",
        "a = \"Life is too short, You need Python\"\n",
        "a[3]\n",
        "a[15]\n",
        "\n",
        "# \"파이썬은 0부터 숫자를 센다.\"\n",
        "print(\"문자열: 인덱싱 활용\")\n",
        "\n",
        "a = \"Life is too short, You need Python\"\n",
        "a[0]\n",
        "\n",
        "a[12]\n",
        "\n",
        "a[-1]\n",
        "\n",
        "# a[-0]\n",
        "a[-2]\n",
        "a[-5]\n",
        "a[-12]\n"
      ],
      "execution_count": 0,
      "outputs": []
    },
    {
      "cell_type": "code",
      "metadata": {
        "id": "1S8EfQ48TMzH",
        "colab_type": "code",
        "colab": {}
      },
      "source": [
        "#####################################\n",
        "print(\"문자열: 슬라이싱이란?\")\n",
        "a = \"Life is too short, You need Python\"\n",
        "# Life 를 뽑아낼려면 어떻게?\n",
        "b = a[0] + a[1] + a[2] + a[3]  # 문자열 뎌하기 연산\n",
        "b\n",
        "# slicing (슬라이싱)\n",
        "a[0:4]  # 0 <= index < 4\n",
        "\n",
        "a[0:5]\n",
        "a[5:7]\n",
        "a[12:17]\n",
        "# : 의 사용\n",
        "a[:4]\n",
        "a[19:]\n",
        "a[:17]\n",
        "\n",
        "a[:]\n",
        "\n",
        "# a[19:-7] ?\n",
        "a[19:-7]\n",
        "\n",
        "print(\"문자열: 슬라이싱 응용?\")\n",
        "a = \"20190909Sunny\"\n",
        "date = a[:8]\n",
        "weather = a[8:]\n",
        "date\n",
        "weather\n",
        "\n",
        "a = \"20190917Rainy\"\n",
        "year = a[:4]\n",
        "day = a[4:8]\n",
        "weather = a[8:]\n",
        "year,day,weather\n",
        "\n",
        "# \"Pithon\"이라는 문자열을 \"Python\"으로 바꾸려면?\n",
        "a = \"Pithon\"\n",
        "a[1]\n",
        "a[1] = 'y'  # Error (immutable한 자료형)\n",
        "#################\n",
        "a = \"Pithon\"\n",
        "a[:1]\n",
        "a[2:]\n",
        "a[:1] + 'y' + a[2:]  # Python"
      ],
      "execution_count": 0,
      "outputs": []
    }
  ]
}