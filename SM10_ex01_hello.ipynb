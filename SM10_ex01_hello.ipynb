{
  "nbformat": 4,
  "nbformat_minor": 0,
  "metadata": {
    "colab": {
      "name": "SM10_ex01_hello.ipynb",
      "version": "0.3.2",
      "provenance": [],
      "collapsed_sections": [],
      "include_colab_link": true
    },
    "kernelspec": {
      "name": "python3",
      "display_name": "Python 3"
    }
  },
  "cells": [
    {
      "cell_type": "markdown",
      "metadata": {
        "id": "view-in-github",
        "colab_type": "text"
      },
      "source": [
        "<a href=\"https://colab.research.google.com/github/comsihyun/SM10/blob/master/SM10_ex01_hello.ipynb\" target=\"_parent\"><img src=\"https://colab.research.google.com/assets/colab-badge.svg\" alt=\"Open In Colab\"/></a>"
      ]
    },
    {
      "cell_type": "markdown",
      "metadata": {
        "id": "PnlhPRScd1W5",
        "colab_type": "text"
      },
      "source": [
        "# SM10 report1\n"
      ]
    },
    {
      "cell_type": "code",
      "metadata": {
        "id": "HZUH6YUleQaC",
        "colab_type": "code",
        "outputId": "75de555b-ae45-4fb7-9c69-0c66cf661fde",
        "colab": {
          "base_uri": "https://localhost:8080/",
          "height": 35
        }
      },
      "source": [
        "a=1;b=2\n",
        "print(a+b)"
      ],
      "execution_count": 0,
      "outputs": [
        {
          "output_type": "stream",
          "text": [
            "3\n"
          ],
          "name": "stdout"
        }
      ]
    },
    {
      "cell_type": "markdown",
      "metadata": {
        "id": "0Yp3tPRQe-7a",
        "colab_type": "text"
      },
      "source": [
        "###문자열 출력"
      ]
    },
    {
      "cell_type": "code",
      "metadata": {
        "id": "ikJ5nTlzeW7a",
        "colab_type": "code",
        "outputId": "2d0be19b-068b-4b8e-8a80-c7c818b5a5f7",
        "colab": {
          "base_uri": "https://localhost:8080/",
          "height": 35
        }
      },
      "source": [
        "s=\"hello python!\"\n",
        "print(s)\n",
        "\n"
      ],
      "execution_count": 0,
      "outputs": [
        {
          "output_type": "stream",
          "text": [
            "hello python!\n"
          ],
          "name": "stdout"
        }
      ]
    },
    {
      "cell_type": "markdown",
      "metadata": {
        "id": "P096P470fA1K",
        "colab_type": "text"
      },
      "source": [
        "###리스트 출력"
      ]
    },
    {
      "cell_type": "code",
      "metadata": {
        "id": "7UymSOqnebPD",
        "colab_type": "code",
        "outputId": "fdbca3d5-409d-42b0-c4ee-c2095eb374f2",
        "colab": {
          "base_uri": "https://localhost:8080/",
          "height": 71
        }
      },
      "source": [
        "x=[1,2,3];y=[4,5,6]\n",
        "print(x)\n",
        "print(x,y)\n",
        "print(x+y)\n"
      ],
      "execution_count": 0,
      "outputs": [
        {
          "output_type": "stream",
          "text": [
            "[1, 2, 3]\n",
            "[1, 2, 3] [4, 5, 6]\n",
            "[1, 2, 3, 4, 5, 6]\n"
          ],
          "name": "stdout"
        }
      ]
    },
    {
      "cell_type": "markdown",
      "metadata": {
        "id": "2xdqGzT4fDwJ",
        "colab_type": "text"
      },
      "source": [
        "###함수 정의 및 실행"
      ]
    },
    {
      "cell_type": "code",
      "metadata": {
        "id": "i-_Yo2XSed-S",
        "colab_type": "code",
        "outputId": "5ec1cd51-52ee-42cd-ac85-aba62438a96f",
        "colab": {
          "base_uri": "https://localhost:8080/",
          "height": 53
        }
      },
      "source": [
        "def add(a,b):\n",
        "    return a+b\n",
        "\n",
        "print(add(3,5))\n",
        "print(add(x,y))"
      ],
      "execution_count": 0,
      "outputs": [
        {
          "output_type": "stream",
          "text": [
            "8\n",
            "[1, 2, 3, 4, 5, 6]\n"
          ],
          "name": "stdout"
        }
      ]
    }
  ]
}