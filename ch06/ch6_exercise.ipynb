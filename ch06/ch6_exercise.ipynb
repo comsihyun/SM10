{
  "nbformat": 4,
  "nbformat_minor": 0,
  "metadata": {
    "colab": {
      "name": "sm10_ch06_exercise.ipynb",
      "provenance": [],
      "include_colab_link": true
    },
    "kernelspec": {
      "name": "python3",
      "display_name": "Python 3"
    }
  },
  "cells": [
    {
      "cell_type": "markdown",
      "metadata": {
        "id": "view-in-github",
        "colab_type": "text"
      },
      "source": [
        "<a href=\"https://colab.research.google.com/github/comsihyun/SM10/blob/master/ch06/ch6_exercise.ipynb\" target=\"_parent\"><img src=\"https://colab.research.google.com/assets/colab-badge.svg\" alt=\"Open In Colab\"/></a>"
      ]
    },
    {
      "cell_type": "markdown",
      "metadata": {
        "id": "I3vWxIuF16F0",
        "colab_type": "text"
      },
      "source": [
        "#6-1"
      ]
    },
    {
      "cell_type": "code",
      "metadata": {
        "id": "_hGKo1NS192_",
        "colab_type": "code",
        "colab": {
          "base_uri": "https://localhost:8080/",
          "height": 35
        },
        "outputId": "e5faef2d-79a2-4020-8ae4-30167a385f6f"
      },
      "source": [
        "#1\n",
        "def GuGu(n):\n",
        "    result = []\n",
        "    i = 1\n",
        "    while i < 10:\n",
        "        result.append(n * i)\n",
        "        i = i + 1\n",
        "    return result\n",
        "\n",
        "print(GuGu(2))"
      ],
      "execution_count": 2,
      "outputs": [
        {
          "output_type": "stream",
          "text": [
            "[2, 4, 6, 8, 10, 12, 14, 16, 18]\n"
          ],
          "name": "stdout"
        }
      ]
    },
    {
      "cell_type": "code",
      "metadata": {
        "id": "5QALVHpF2G3L",
        "colab_type": "code",
        "colab": {
          "base_uri": "https://localhost:8080/",
          "height": 35
        },
        "outputId": "059ce42c-3003-465f-ff5c-dccc147621e9"
      },
      "source": [
        "#2\n",
        "def GuGu1(n):\n",
        "  return [n*i for i in range(1,10)]\n",
        "\n",
        "print(GuGu1(2))"
      ],
      "execution_count": 9,
      "outputs": [
        {
          "output_type": "stream",
          "text": [
            "[2, 4, 6, 8, 10, 12, 14, 16, 18]\n"
          ],
          "name": "stdout"
        }
      ]
    },
    {
      "cell_type": "markdown",
      "metadata": {
        "id": "Zlw88vkA2_Bf",
        "colab_type": "text"
      },
      "source": [
        "#6-2"
      ]
    },
    {
      "cell_type": "code",
      "metadata": {
        "id": "EXB22kVv3AGG",
        "colab_type": "code",
        "colab": {
          "base_uri": "https://localhost:8080/",
          "height": 35
        },
        "outputId": "048cb347-06cc-4f90-8deb-40d50a644b07"
      },
      "source": [
        "#1\n",
        "result = 0\n",
        "for n in range(1, 1000):\n",
        "    if n % 3 == 0 or n % 5 == 0:\n",
        "        result += n\n",
        "print(result)"
      ],
      "execution_count": 10,
      "outputs": [
        {
          "output_type": "stream",
          "text": [
            "233168\n"
          ],
          "name": "stdout"
        }
      ]
    },
    {
      "cell_type": "code",
      "metadata": {
        "id": "ak6V0gsy3TSi",
        "colab_type": "code",
        "colab": {
          "base_uri": "https://localhost:8080/",
          "height": 35
        },
        "outputId": "6ba6eeec-4e98-40f2-ecd1-1c125d655a0f"
      },
      "source": [
        "#2\n",
        "print(sum([i for i in range(1,1000) if i%3==0 or i%5==0]))"
      ],
      "execution_count": 13,
      "outputs": [
        {
          "output_type": "stream",
          "text": [
            "233168\n"
          ],
          "name": "stdout"
        }
      ]
    },
    {
      "cell_type": "markdown",
      "metadata": {
        "id": "2n0vg2J73obO",
        "colab_type": "text"
      },
      "source": [
        "#6-3"
      ]
    },
    {
      "cell_type": "code",
      "metadata": {
        "id": "USWwygMa3pg9",
        "colab_type": "code",
        "colab": {
          "base_uri": "https://localhost:8080/",
          "height": 89
        },
        "outputId": "097c87c3-fd97-4e22-d522-41c0472927ee"
      },
      "source": [
        "#1\n",
        "def getTotalPage(m, n):\n",
        "    if m % n == 0:\n",
        "        return m // n\n",
        "    else:\n",
        "        return m // n + 1\n",
        "\n",
        "print(getTotalPage(5, 10))\n",
        "print(getTotalPage(15, 10))\n",
        "print(getTotalPage(25, 10))\n",
        "print(getTotalPage(30, 10))"
      ],
      "execution_count": 15,
      "outputs": [
        {
          "output_type": "stream",
          "text": [
            "1\n",
            "2\n",
            "3\n",
            "3\n"
          ],
          "name": "stdout"
        }
      ]
    },
    {
      "cell_type": "code",
      "metadata": {
        "id": "4YSWS6rf4IiE",
        "colab_type": "code",
        "colab": {
          "base_uri": "https://localhost:8080/",
          "height": 89
        },
        "outputId": "11730a6d-07b1-40c3-9ff9-6567f80cdd49"
      },
      "source": [
        "#2\n",
        "def getTotalPage(m, n):\n",
        "    \n",
        "    return m // n if m % n == 0 else m // n + 1\n",
        "\n",
        "print(getTotalPage(5, 10))\n",
        "print(getTotalPage(15, 10))\n",
        "print(getTotalPage(25, 10))\n",
        "print(getTotalPage(30, 10))"
      ],
      "execution_count": 17,
      "outputs": [
        {
          "output_type": "stream",
          "text": [
            "1\n",
            "2\n",
            "3\n",
            "3\n"
          ],
          "name": "stdout"
        }
      ]
    },
    {
      "cell_type": "markdown",
      "metadata": {
        "id": "R9j6BFFZ4l27",
        "colab_type": "text"
      },
      "source": [
        "#6-4"
      ]
    },
    {
      "cell_type": "code",
      "metadata": {
        "id": "W6VFqS9Y4mrk",
        "colab_type": "code",
        "colab": {}
      },
      "source": [
        "##"
      ],
      "execution_count": 0,
      "outputs": []
    },
    {
      "cell_type": "markdown",
      "metadata": {
        "id": "VsRUgCpH5U-X",
        "colab_type": "text"
      },
      "source": [
        "#6-5"
      ]
    },
    {
      "cell_type": "code",
      "metadata": {
        "id": "G8cIHn1N5Ylf",
        "colab_type": "code",
        "colab": {}
      },
      "source": [
        "##"
      ],
      "execution_count": 0,
      "outputs": []
    },
    {
      "cell_type": "markdown",
      "metadata": {
        "id": "EnjTnEn-5aiA",
        "colab_type": "text"
      },
      "source": [
        "#6-6"
      ]
    },
    {
      "cell_type": "code",
      "metadata": {
        "id": "EJsvw-9s5b9h",
        "colab_type": "code",
        "colab": {}
      },
      "source": [
        "##"
      ],
      "execution_count": 0,
      "outputs": []
    }
  ]
}