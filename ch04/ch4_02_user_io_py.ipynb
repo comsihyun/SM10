{
  "nbformat": 4,
  "nbformat_minor": 0,
  "metadata": {
    "colab": {
      "name": "ch4_02_user_io.py",
      "provenance": [],
      "include_colab_link": true
    },
    "kernelspec": {
      "name": "python3",
      "display_name": "Python 3"
    }
  },
  "cells": [
    {
      "cell_type": "markdown",
      "metadata": {
        "id": "view-in-github",
        "colab_type": "text"
      },
      "source": [
        "<a href=\"https://colab.research.google.com/github/comsihyun/SM10/blob/master/ch04/ch4_02_user_io_py.ipynb\" target=\"_parent\"><img src=\"https://colab.research.google.com/assets/colab-badge.svg\" alt=\"Open In Colab\"/></a>"
      ]
    },
    {
      "cell_type": "code",
      "metadata": {
        "id": "IoTbXc3nrpHT",
        "colab_type": "code",
        "colab": {}
      },
      "source": [
        "#ch4_02_user_io.py"
      ],
      "execution_count": 0,
      "outputs": []
    },
    {
      "cell_type": "code",
      "metadata": {
        "id": "B1dDeKg9ruKs",
        "colab_type": "code",
        "colab": {}
      },
      "source": [
        "print(\"사용자 입력과 출력\")\n",
        "#######################################\n",
        "# 사용자의 입력을 받는 방법과 출력하는 방법\n",
        "#######################################\n",
        "\n",
        "print(\"사용자 입력\")\n",
        "# 사용자가 입력한 값을 어떤 변수에 대입"
      ],
      "execution_count": 0,
      "outputs": []
    },
    {
      "cell_type": "code",
      "metadata": {
        "id": "F4cJ4GSvrvaB",
        "colab_type": "code",
        "colab": {}
      },
      "source": [
        "print(\"input의 사용\")\n",
        "#######################################\n",
        "\n",
        "a = input()\n",
        "# Life is too short, you need python\n",
        "a\n",
        "\n",
        "print(\"입력 안내 문구를 이용한 input의 사용\")"
      ],
      "execution_count": 0,
      "outputs": []
    },
    {
      "cell_type": "code",
      "metadata": {
        "id": "Z2BZGx4YrwWB",
        "colab_type": "code",
        "colab": {}
      },
      "source": [
        "#######################################\n",
        "# input(\"안내 문구\")\n",
        "#######################################\n",
        "\n",
        "number = input(\"숫자를 입력하세요: \")\n",
        "\n",
        "print(number)\n",
        "\n",
        "\n",
        "print(\"사용자 출력: print()\")\n",
        "# 입력한 자료형을 출력"
      ],
      "execution_count": 0,
      "outputs": []
    },
    {
      "cell_type": "code",
      "metadata": {
        "id": "KMBE-cKBrztX",
        "colab_type": "code",
        "colab": {}
      },
      "source": [
        "#######################################\n",
        "print(\"print의 사용\")\n",
        "#######################################\n",
        "\n",
        "a = 123\n",
        "print(a)\n",
        "\n",
        "a = \"Python\"\n",
        "print(a)\n",
        "\n",
        "a = [1, 2, 3]\n",
        "print(a)\n"
      ],
      "execution_count": 0,
      "outputs": []
    },
    {
      "cell_type": "code",
      "metadata": {
        "id": "GJwhQY9fr1UX",
        "colab_type": "code",
        "colab": {}
      },
      "source": [
        "#######################################\n",
        "print(\"큰따옴표(\\\")로 둘러싸인 문자열은 + 연산과 동일\")\n",
        "#\n",
        "print(\"life\" \"is\" \"too short\")\n",
        "print(\"life\"+\"is\"+\"too short\")\n",
        "\n"
      ],
      "execution_count": 0,
      "outputs": []
    },
    {
      "cell_type": "code",
      "metadata": {
        "id": "rryu2Rkzr20n",
        "colab_type": "code",
        "colab": {}
      },
      "source": [
        "#######################################\n",
        "print(\"문자열 띄어쓰기는 콤마로 한다\")\n",
        "#\n",
        "print(\"life\", \"is\", \"too short\")\n",
        "\n"
      ],
      "execution_count": 0,
      "outputs": []
    },
    {
      "cell_type": "code",
      "metadata": {
        "id": "cUxQ3fZnr4GY",
        "colab_type": "code",
        "colab": {}
      },
      "source": [
        "#######################################\n",
        "print(\"한 줄에 결괏값 출력하기\")\n",
        "#\n",
        "for i in range(10):\n",
        "    print(i, end=' ')\n"
      ],
      "execution_count": 0,
      "outputs": []
    }
  ]
}